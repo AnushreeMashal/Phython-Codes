{
 "cells": [
  {
   "cell_type": "code",
   "execution_count": 1,
   "id": "750479f2-eecd-409b-b46e-d8446b55c18f",
   "metadata": {},
   "outputs": [],
   "source": [
    "class Rectangle():\n",
    "    def __init__(self,width,height):\n",
    "        self.width=width\n",
    "        self.height=height\n",
    "    def area(self):\n",
    "        print('area=',self.width*self.height)\n",
    "    def perimeter(self):\n",
    "        print('perimeter=',2*(self.width+self.height))"
   ]
  },
  {
   "cell_type": "code",
   "execution_count": 17,
   "id": "02e15044-41c6-4e5f-b0db-4f2d6e186f7f",
   "metadata": {},
   "outputs": [
    {
     "name": "stdout",
     "output_type": "stream",
     "text": [
      "area= 20\n",
      "perimeter= 18\n"
     ]
    }
   ],
   "source": [
    "r=Rectangle(5,4)\n",
    "r.area()\n",
    "r.perimeter()"
   ]
  },
  {
   "cell_type": "code",
   "execution_count": 21,
   "id": "921256fb-3ca5-45d6-8f58-a8ed6b882c01",
   "metadata": {},
   "outputs": [],
   "source": [
    "class Circle():\n",
    "    def __init__(self,radius):\n",
    "        self.radius=radius\n",
    "    def area(self):\n",
    "        print('area=',3.14*self.radius*self.radius)\n",
    "    def circumference(self):\n",
    "        print('circumference=',2*3.14*self.radius)"
   ]
  },
  {
   "cell_type": "code",
   "execution_count": 22,
   "id": "f2916cee-aaf7-4c2b-ae4b-790fca927e22",
   "metadata": {},
   "outputs": [
    {
     "name": "stdout",
     "output_type": "stream",
     "text": [
      "area= 78.5\n",
      "circumference= 31.400000000000002\n"
     ]
    }
   ],
   "source": [
    "c=Circle(5)\n",
    "c.area()\n",
    "c.circumference()"
   ]
  },
  {
   "cell_type": "code",
   "execution_count": 33,
   "id": "3e27ac0c-c0dc-49f6-8019-a20f2d591617",
   "metadata": {},
   "outputs": [],
   "source": [
    "class Bank_Account():\n",
    "    def __init__(self,balance,interest_rate):\n",
    "        self.balance=balance\n",
    "        self.interest_rate=interest_rate\n",
    "    def deposit(self):\n",
    "        print('depsoit=',self.balance+(self.balance*self.interest_rate*12/100))\n",
    "    def withdraw(self):\n",
    "        print('account has 5 withdrawals')\n",
    "    def interest(self):\n",
    "        print('interest=',self.balance*(1+self.interest_rate*12))"
   ]
  },
  {
   "cell_type": "code",
   "execution_count": 34,
   "id": "cb4155dd-356c-42fe-b315-33c152f61010",
   "metadata": {},
   "outputs": [
    {
     "name": "stdout",
     "output_type": "stream",
     "text": [
      "depsoit= 2040000.0\n",
      "account has 5 withdrawals\n",
      "interest= 55500000\n"
     ]
    }
   ],
   "source": [
    "b=Bank_Account(1500000,3)\n",
    "b.deposit()\n",
    "b.withdraw()\n",
    "b.interest()"
   ]
  },
  {
   "cell_type": "code",
   "execution_count": 26,
   "id": "0e5afb10-4306-4f02-9a55-16d239438c1c",
   "metadata": {},
   "outputs": [],
   "source": [
    "class Student:\n",
    "    def __init__(self,name,age):\n",
    "        self.name=name\n",
    "        self.age=age\n",
    "    def display(self):\n",
    "        print('name=',self.name)\n",
    "        print('age=',self.age)\n",
    "        \n",
    "class Field(Student):\n",
    "    def __init__(self,name,age,fname):\n",
    "        Student.__init__(self,name,age)\n",
    "        self.fname=fname\n",
    "    def show(self):\n",
    "        print('Field=',self.fname)\n",
    "\n",
    "class Specialization(Field):\n",
    "    def __init__(self,name,age,fname,spec):\n",
    "        Field.__init__(self,name,age,fname)\n",
    "        self.spec=spec\n",
    "    def tech(self):\n",
    "        print('specialization=',self.spec)"
   ]
  },
  {
   "cell_type": "code",
   "execution_count": 27,
   "id": "42c519de-ca0b-4604-85e0-1a2848d4258e",
   "metadata": {},
   "outputs": [
    {
     "name": "stdout",
     "output_type": "stream",
     "text": [
      "name= Rama\n",
      "age= 20\n",
      "Field= Finacle\n",
      "specialization= loan\n"
     ]
    }
   ],
   "source": [
    "s=Specialization('Rama',20,'Finacle','loan')\n",
    "s.display()\n",
    "s.show()\n",
    "s.tech()"
   ]
  },
  {
   "cell_type": "code",
   "execution_count": 35,
   "id": "41d67ea9-48ef-4922-954a-a05dbe143691",
   "metadata": {},
   "outputs": [],
   "source": [
    "class Person:\n",
    "    def __init__(self,name,age,gender):\n",
    "        self.name=name\n",
    "        self.age=age\n",
    "        self.gender=gender\n",
    "    def introduce(self):\n",
    "        print('Myself',self.name,'with age of',self.age,'proud to be ',self.gender)"
   ]
  },
  {
   "cell_type": "code",
   "execution_count": 36,
   "id": "79a9fd21-340b-451d-8b38-c00f87f8493e",
   "metadata": {},
   "outputs": [
    {
     "name": "stdout",
     "output_type": "stream",
     "text": [
      "Myself Madhu with age of 30 proud to be  woman\n"
     ]
    }
   ],
   "source": [
    "p=Person('Madhu',30,'woman')\n",
    "p.introduce()"
   ]
  },
  {
   "cell_type": "code",
   "execution_count": 37,
   "id": "2df57c8b-e258-4ff4-9496-762dafb2eccc",
   "metadata": {},
   "outputs": [],
   "source": [
    "class Vehicle:\n",
    "    def __init__(self,make,model,year):\n",
    "        self.name=name\n",
    "        self.age=age\n",
    "        self.gender=gender\n",
    "    def introduce(self):\n",
    "        print('Myself',self.name,'with age of',self.age,'proud to be ',self.gender)"
   ]
  },
  {
   "cell_type": "code",
   "execution_count": 51,
   "id": "7f4f84f5-4f18-47bf-9e7a-ad1e4186debb",
   "metadata": {},
   "outputs": [],
   "source": [
    "class graduation():\n",
    "    def __init__(self,year):\n",
    "        self.year=year\n",
    "    def education(self):\n",
    "        print('completed graducation in',self.year)\n",
    "\n",
    "class Postgraduation():\n",
    "    def __init__(self,university):\n",
    "        self.university=university\n",
    "    def pg(self):\n",
    "        print('completed pg from',self.university)\n",
    "        \n",
    "class Student(graudation,Postgraducation):\n",
    "    def __init__(self,name,year,university):\n",
    "        graduation.__init__(self,year)\n",
    "        Postgraduation.__init__(self,university)\n",
    "        self.name=name\n",
    "        self.year=year\n",
    "        self.university=university\n",
    "    def completed(self):\n",
    "        print(self.name,'completed education in',self.year,self.university)"
   ]
  },
  {
   "cell_type": "code",
   "execution_count": 52,
   "id": "f721c7f9-3762-4dba-9d20-cfc9f813b887",
   "metadata": {},
   "outputs": [
    {
     "name": "stdout",
     "output_type": "stream",
     "text": [
      "completed graducation in 2015\n",
      "completed pg from VTU\n",
      "Rama completed education in 2015 VTU\n"
     ]
    }
   ],
   "source": [
    "s=Student('Rama',2015,'VTU')\n",
    "s.education()\n",
    "s.pg()\n",
    "s.completed()"
   ]
  },
  {
   "cell_type": "code",
   "execution_count": 8,
   "id": "4795d8fa-fb5c-48ec-8e30-96ed49f8b031",
   "metadata": {},
   "outputs": [],
   "source": [
    "class Student:\n",
    "    def __init__(self,name,age):\n",
    "        self.name=name\n",
    "        self.age=age\n",
    "    def display(self):\n",
    "        print('name=',self.name)\n",
    "        print('age=',self.age)"
   ]
  },
  {
   "cell_type": "code",
   "execution_count": 14,
   "id": "875c2991-c87e-421c-9383-eaeb8ec2ed69",
   "metadata": {},
   "outputs": [],
   "source": [
    "class Ug(Student):\n",
    "    def __init__(self,name,age,branch):\n",
    "        Student.__init__(self,name,age)\n",
    "        self.branch=branch\n",
    "    def undergraduation(self):\n",
    "        print('course chosen is',self.branch)"
   ]
  },
  {
   "cell_type": "code",
   "execution_count": 15,
   "id": "d2bac55e-6dae-45ac-8773-0893b88eee36",
   "metadata": {},
   "outputs": [
    {
     "name": "stdout",
     "output_type": "stream",
     "text": [
      "name= Reeta\n",
      "age= 19\n",
      "course chosen is bcom\n"
     ]
    }
   ],
   "source": [
    "u=Ug('Reeta',19,'bcom')\n",
    "u.display()\n",
    "u.undergraduation()"
   ]
  },
  {
   "cell_type": "code",
   "execution_count": 16,
   "id": "6e665d60-170e-4edc-8e40-2bd6d9477b03",
   "metadata": {},
   "outputs": [],
   "source": [
    "class Pg(Student):\n",
    "    def __init__(self,name,age,branch):\n",
    "        Student.__init__(self,name,age)\n",
    "        self.branch=branch\n",
    "    def postgraduation(self):\n",
    "        print('course chosen is',self.branch)"
   ]
  },
  {
   "cell_type": "code",
   "execution_count": 18,
   "id": "44cb9a2f-dfe5-4d38-bbba-5e7a027649d8",
   "metadata": {},
   "outputs": [
    {
     "name": "stdout",
     "output_type": "stream",
     "text": [
      "name= Rama\n",
      "age= 21\n",
      "course chosen is mcom\n"
     ]
    }
   ],
   "source": [
    "p=Pg('Rama',21,'mcom')\n",
    "p.display()\n",
    "p.postgraduation()"
   ]
  },
  {
   "cell_type": "code",
   "execution_count": 32,
   "id": "33570d6d-21b4-4119-84cb-556bd3efdc58",
   "metadata": {},
   "outputs": [],
   "source": [
    "#hybrid Inheritance\n",
    "class oragnisation:\n",
    "    def __init__(self,name):\n",
    "        self.name=name\n",
    "    def org(self):\n",
    "        print('name of company=',self.name)\n",
    "\n",
    "class sales(oragnisation):\n",
    "    def __init__(self,name,job):\n",
    "        oragnisation.__init__(self,name)\n",
    "        self.job=job\n",
    "    def excutive(self):\n",
    "        print('role is',self.job)\n",
    "    \n",
    "class Hr(oragnisation):\n",
    "    def __init__(self,name,job1):\n",
    "        oragnisation.__init__(self,name)\n",
    "        self.job1=job1\n",
    "    def role(self):\n",
    "        print('role is',self.job1)        "
   ]
  },
  {
   "cell_type": "code",
   "execution_count": 23,
   "id": "d6cfaef6-905c-4554-accf-5629815aa20d",
   "metadata": {},
   "outputs": [
    {
     "name": "stdout",
     "output_type": "stream",
     "text": [
      "name of company= Icon\n",
      "role is improvement\n"
     ]
    }
   ],
   "source": [
    "s=sales('Icon','improvement')\n",
    "s.org()\n",
    "s.excutive()"
   ]
  },
  {
   "cell_type": "code",
   "execution_count": 29,
   "id": "85846ec5-a3f4-4917-9f13-035180a5ad59",
   "metadata": {},
   "outputs": [
    {
     "name": "stdout",
     "output_type": "stream",
     "text": [
      "name of company= Icon\n",
      "role is heiring\n"
     ]
    }
   ],
   "source": [
    "h=Hr('Icon','heiring')\n",
    "h.org()\n",
    "h.role()"
   ]
  },
  {
   "cell_type": "code",
   "execution_count": 39,
   "id": "882170fa-8b2f-49f5-8310-198196ab9f1f",
   "metadata": {},
   "outputs": [],
   "source": [
    "class Employee(sales,Hr):\n",
    "    def __init__(self,name,job,job1,year):\n",
    "        sales.__init__(self,name,job)\n",
    "        Hr.__init__(self,name,job1)\n",
    "        self.year=year\n",
    "    def experience(self):\n",
    "        print('experience of',self.year)"
   ]
  },
  {
   "cell_type": "code",
   "execution_count": 34,
   "id": "a073f12e-f76e-474b-8682-00501e3860f2",
   "metadata": {},
   "outputs": [
    {
     "name": "stdout",
     "output_type": "stream",
     "text": [
      "role is improvement\n",
      "role is hiering\n",
      "experience of 5\n"
     ]
    }
   ],
   "source": [
    "e=Employee('Icon','improvement','hiering',5)\n",
    "e.excutive()\n",
    "e.role()\n",
    "e.experience()"
   ]
  },
  {
   "cell_type": "code",
   "execution_count": 44,
   "id": "f3572ea5-54dc-4e88-bc9d-9bee997dfdba",
   "metadata": {},
   "outputs": [],
   "source": [
    "class Manager(Employee):\n",
    "    def __init__(self,name,job,job1,year,role):\n",
    "        Employee.__init__(self,name,job,job1,year)\n",
    "        self.role=role\n",
    "    def plan(self):\n",
    "        print('planning for',self.role)"
   ]
  },
  {
   "cell_type": "code",
   "execution_count": 45,
   "id": "afb35904-23ab-4e63-a1f6-9b35cc554a1d",
   "metadata": {},
   "outputs": [
    {
     "name": "stdout",
     "output_type": "stream",
     "text": [
      "experience of 5\n",
      "planning for implementing\n"
     ]
    }
   ],
   "source": [
    "m=Manager('Icon','improvement','hiering',5,'implementing')\n",
    "m.experience()\n",
    "m.plan()"
   ]
  },
  {
   "cell_type": "code",
   "execution_count": 47,
   "id": "5db0ce06-8f9a-41df-b127-20e8cab693bb",
   "metadata": {},
   "outputs": [],
   "source": [
    "class Vehicle:\n",
    "    def __init__(self,name):\n",
    "        self.name=name\n",
    "    def transport(self):\n",
    "        print('model is',self.name)\n",
    "\n",
    "class Car(Vehicle):\n",
    "    def __init__(self,name,num_doors):\n",
    "        Vehicle.__init__(self,name)\n",
    "        self.num_doors=num_doors\n",
    "    def lock_doors(self):\n",
    "        print('num of doors locked',self.num_doors)"
   ]
  },
  {
   "cell_type": "code",
   "execution_count": 48,
   "id": "d3b3367e-7b0e-435d-a374-6592a5e7a7e0",
   "metadata": {},
   "outputs": [
    {
     "name": "stdout",
     "output_type": "stream",
     "text": [
      "model is Tata\n",
      "num of doors locked 4\n"
     ]
    }
   ],
   "source": [
    "c=Car('Tata',4)\n",
    "c.transport()\n",
    "c.lock_doors()"
   ]
  },
  {
   "cell_type": "code",
   "execution_count": null,
   "id": "17606556-6d22-420a-968d-bd0a46a70a6a",
   "metadata": {},
   "outputs": [],
   "source": []
  }
 ],
 "metadata": {
  "kernelspec": {
   "display_name": "anaconda-2022.05-py39",
   "language": "python",
   "name": "conda-env-anaconda-2022.05-py39-py"
  },
  "language_info": {
   "codemirror_mode": {
    "name": "ipython",
    "version": 3
   },
   "file_extension": ".py",
   "mimetype": "text/x-python",
   "name": "python",
   "nbconvert_exporter": "python",
   "pygments_lexer": "ipython3",
   "version": "3.9.12"
  }
 },
 "nbformat": 4,
 "nbformat_minor": 5
}
