{
 "cells": [
  {
   "cell_type": "code",
   "execution_count": 16,
   "id": "2764f5e1-2feb-49b5-8d50-2424a41176fa",
   "metadata": {},
   "outputs": [
    {
     "name": "stdin",
     "output_type": "stream",
     "text": [
      "enter the number 11\n"
     ]
    },
    {
     "name": "stdout",
     "output_type": "stream",
     "text": [
      "prime number\n"
     ]
    }
   ],
   "source": [
    "#prime or not\n",
    "n=int(input(\"enter the number\"))\n",
    "prime=1\n",
    "for i in range (2,n):\n",
    "    if n%i==0:\n",
    "        prime=0\n",
    "        break\n",
    "    i+=1\n",
    "if prime==1:\n",
    "    print(\"prime number\")\n",
    "else:\n",
    "    print(\"not prime number\")"
   ]
  },
  {
   "cell_type": "code",
   "execution_count": 3,
   "id": "b5ac1f63-dbcb-4418-b670-74e8e5060b5b",
   "metadata": {},
   "outputs": [
    {
     "name": "stdin",
     "output_type": "stream",
     "text": [
      "enter the number 30\n"
     ]
    },
    {
     "name": "stdout",
     "output_type": "stream",
     "text": [
      "1\n",
      "2\n",
      "3\n",
      "5\n",
      "6\n",
      "10\n",
      "15\n",
      "30\n"
     ]
    }
   ],
   "source": [
    "# Factors of a given number\n",
    "n=int(input(\"enter the number\"))\n",
    "for i in range (1,n+1):\n",
    "    if n%i==0:\n",
    "        print(i)"
   ]
  },
  {
   "cell_type": "code",
   "execution_count": 4,
   "id": "e0704adb-26b9-413f-a405-2fc8792916f3",
   "metadata": {},
   "outputs": [
    {
     "name": "stdin",
     "output_type": "stream",
     "text": [
      "enter the number 5\n"
     ]
    },
    {
     "name": "stdout",
     "output_type": "stream",
     "text": [
      "1\n",
      "8\n",
      "27\n",
      "64\n",
      "125\n"
     ]
    }
   ],
   "source": [
    "#cube of number from 1 to n\n",
    "n=int(input(\"enter the number\"))\n",
    "for i in range (1,n+1):\n",
    "    print(i**3)"
   ]
  },
  {
   "cell_type": "code",
   "execution_count": 6,
   "id": "0322044a-15db-43bf-839b-5a873c2abf6d",
   "metadata": {},
   "outputs": [
    {
     "name": "stdin",
     "output_type": "stream",
     "text": [
      "enter the number 133\n"
     ]
    },
    {
     "name": "stdout",
     "output_type": "stream",
     "text": [
      "Not Palindrome\n"
     ]
    }
   ],
   "source": [
    "#Palindrome or not\n",
    "n=int(input(\"enter the number\"))\n",
    "temp=n\n",
    "rev=0\n",
    "while n>0:\n",
    "    dig=n%10\n",
    "    rev=rev*10+dig\n",
    "    n=n//10\n",
    "if temp==rev:\n",
    "    print(\"Palindrome\") \n",
    "else:\n",
    "    print(\"Not Palindrome\")"
   ]
  },
  {
   "cell_type": "code",
   "execution_count": 7,
   "id": "ef27c160-35ff-4960-9acc-75df47296f75",
   "metadata": {},
   "outputs": [
    {
     "name": "stdin",
     "output_type": "stream",
     "text": [
      "enter the number 569\n"
     ]
    },
    {
     "name": "stdout",
     "output_type": "stream",
     "text": [
      "965\n"
     ]
    }
   ],
   "source": [
    "# reverse the given number\n",
    "n=int(input(\"enter the number\"))\n",
    "rev=0\n",
    "while n>0:\n",
    "    dig=n%10\n",
    "    rev=rev*10+dig\n",
    "    n=n//10\n",
    "print(rev)"
   ]
  },
  {
   "cell_type": "code",
   "execution_count": 8,
   "id": "7d45daa7-dfa9-4c42-a438-a57d6fdb12c1",
   "metadata": {},
   "outputs": [
    {
     "name": "stdin",
     "output_type": "stream",
     "text": [
      "enter the number 4545\n"
     ]
    },
    {
     "name": "stdout",
     "output_type": "stream",
     "text": [
      "18\n"
     ]
    }
   ],
   "source": [
    "#sum of given number\n",
    "n=int(input(\"enter the number\"))\n",
    "temp=n\n",
    "sum=0\n",
    "while n>0:\n",
    "    dig=n%10\n",
    "    sum=sum+dig\n",
    "    n=n//10\n",
    "print(sum)"
   ]
  },
  {
   "cell_type": "code",
   "execution_count": 8,
   "id": "ea21eed8-6095-482d-aa3e-20b976465bf6",
   "metadata": {},
   "outputs": [
    {
     "name": "stdin",
     "output_type": "stream",
     "text": [
      "enter the number 10\n"
     ]
    },
    {
     "name": "stdout",
     "output_type": "stream",
     "text": [
      "2\n",
      "3\n",
      "5\n",
      "7\n"
     ]
    }
   ],
   "source": [
    "# to print prime numbers upto n\n",
    "n=int(input(\"enter the number\"))\n",
    "for num in range(2,n+1):\n",
    "    for i in range(2,num):\n",
    "        if num%i==0:\n",
    "            i=num\n",
    "            break\n",
    "    if i!=num:\n",
    "        print(num)"
   ]
  },
  {
   "cell_type": "code",
   "execution_count": 9,
   "id": "f1fa17c6-9511-4419-a77f-61241c7b9d20",
   "metadata": {},
   "outputs": [
    {
     "name": "stdin",
     "output_type": "stream",
     "text": [
      "enter the number 10\n"
     ]
    },
    {
     "name": "stdout",
     "output_type": "stream",
     "text": [
      "1\n",
      "2\n",
      "3\n",
      "4\n",
      "5\n",
      "6\n",
      "7\n",
      "8\n",
      "9\n",
      "10\n"
     ]
    }
   ],
   "source": [
    "#print numbers from 1 to n\n",
    "n=int(input(\"enter the number\"))\n",
    "for i in range(1,n+1):\n",
    "    print(i)"
   ]
  },
  {
   "cell_type": "code",
   "execution_count": 12,
   "id": "becfb248-de37-4467-9a5a-9478ab9cb5bb",
   "metadata": {},
   "outputs": [
    {
     "name": "stdin",
     "output_type": "stream",
     "text": [
      "enter the number 15\n"
     ]
    },
    {
     "name": "stdout",
     "output_type": "stream",
     "text": [
      "sum of numbers = 120\n"
     ]
    }
   ],
   "source": [
    "#sum of n numbers\n",
    "n=int(input(\"enter the number\"))\n",
    "sum=0\n",
    "for i in range(1,n+1):\n",
    "    sum=sum+i\n",
    "    i=i+1\n",
    "print('sum of numbers =',sum)"
   ]
  },
  {
   "cell_type": "code",
   "execution_count": 16,
   "id": "35a1bb35-d821-4863-a5c4-b0ab782c59ef",
   "metadata": {},
   "outputs": [
    {
     "name": "stdin",
     "output_type": "stream",
     "text": [
      "enter the number 16\n"
     ]
    },
    {
     "name": "stdout",
     "output_type": "stream",
     "text": [
      "16\n",
      "32\n",
      "48\n",
      "64\n",
      "80\n",
      "96\n",
      "112\n",
      "128\n",
      "144\n",
      "160\n"
     ]
    }
   ],
   "source": [
    "#table of a number\n",
    "n=int(input(\"enter the number\"))\n",
    "for i in range(1,11):\n",
    "    mul=n*i\n",
    "    i=i+1\n",
    "    print(mul)"
   ]
  },
  {
   "cell_type": "code",
   "execution_count": 17,
   "id": "8674eeea-9679-4822-8e7e-d40a8e6b33bf",
   "metadata": {},
   "outputs": [
    {
     "name": "stdin",
     "output_type": "stream",
     "text": [
      "enter the number 6\n"
     ]
    },
    {
     "name": "stdout",
     "output_type": "stream",
     "text": [
      "factorial of a number= 720\n"
     ]
    }
   ],
   "source": [
    "#factorial of a number\n",
    "n=int(input(\"enter the number\"))\n",
    "fct=1\n",
    "for i in range(1,n+1):\n",
    "    fct=fct*i\n",
    "    i=i+1\n",
    "print('factorial of a number=',fct)"
   ]
  },
  {
   "cell_type": "code",
   "execution_count": 21,
   "id": "13b047df-e386-4b7a-b085-0fb17fd41a24",
   "metadata": {},
   "outputs": [
    {
     "name": "stdin",
     "output_type": "stream",
     "text": [
      "enter the number 20\n"
     ]
    },
    {
     "name": "stdout",
     "output_type": "stream",
     "text": [
      "2\n",
      "4\n",
      "6\n",
      "8\n",
      "10\n",
      "12\n",
      "14\n",
      "16\n",
      "18\n",
      "20\n"
     ]
    }
   ],
   "source": [
    "#print even numbers upto n\n",
    "n=int(input(\"enter the number\"))\n",
    "for i in range(1,n+1):\n",
    "    if i%2==0:\n",
    "        print(i)"
   ]
  },
  {
   "cell_type": "code",
   "execution_count": 22,
   "id": "fdc8939f-5c17-477e-931f-7c3b1a352264",
   "metadata": {},
   "outputs": [
    {
     "name": "stdin",
     "output_type": "stream",
     "text": [
      "enter the number 30\n"
     ]
    },
    {
     "name": "stdout",
     "output_type": "stream",
     "text": [
      "1\n",
      "3\n",
      "5\n",
      "7\n",
      "9\n",
      "11\n",
      "13\n",
      "15\n",
      "17\n",
      "19\n",
      "21\n",
      "23\n",
      "25\n",
      "27\n",
      "29\n"
     ]
    }
   ],
   "source": [
    "#print odd numbers upto n\n",
    "n=int(input(\"enter the number\"))\n",
    "for i in range(1,n+1):\n",
    "    if i%2!=0:\n",
    "        print(i)"
   ]
  },
  {
   "cell_type": "code",
   "execution_count": 23,
   "id": "34a733a7-f002-4478-b2fa-47b7cd157080",
   "metadata": {},
   "outputs": [
    {
     "name": "stdin",
     "output_type": "stream",
     "text": [
      "enter the number 10\n"
     ]
    },
    {
     "name": "stdout",
     "output_type": "stream",
     "text": [
      "12345678910"
     ]
    }
   ],
   "source": [
    "#to print n numbers\n",
    "n=int(input(\"enter the number\"))\n",
    "i=1\n",
    "while i<=n:\n",
    "    print(i,end='')\n",
    "    i+=1"
   ]
  },
  {
   "cell_type": "code",
   "execution_count": 25,
   "id": "8bf5fdd9-dfef-4fe4-8fc7-d15f155571e1",
   "metadata": {},
   "outputs": [
    {
     "name": "stdin",
     "output_type": "stream",
     "text": [
      "number of classes held= 45\n",
      "number of classes attended= 42\n"
     ]
    },
    {
     "name": "stdout",
     "output_type": "stream",
     "text": [
      "percentage of attendance 93.33333333333333\n",
      "student is allowed to sit exam\n"
     ]
    }
   ],
   "source": [
    "#attendance calculation\n",
    "c_held=int(input('number of classes held='))\n",
    "c_attended=int(input('number of classes attended='))\n",
    "per=c_attended/c_held*100\n",
    "print('percentage of attendance',per)\n",
    "if per>=75:\n",
    "    print('student is allowed to sit exam')\n",
    "else:\n",
    "    print('student is not allowed to sit exam')  "
   ]
  },
  {
   "cell_type": "code",
   "execution_count": 30,
   "id": "d4ccacd7-78d6-4f50-b865-76303e5365ba",
   "metadata": {},
   "outputs": [
    {
     "name": "stdin",
     "output_type": "stream",
     "text": [
      "enter the number 6\n"
     ]
    },
    {
     "name": "stdout",
     "output_type": "stream",
     "text": [
      "number is perfect\n"
     ]
    }
   ],
   "source": [
    "#perfect number or not\n",
    "n=int(input(\"enter the number\"))\n",
    "sum=0\n",
    "for i in range(1,n):\n",
    "    if n%i==0:\n",
    "        sum=sum+i\n",
    "if(sum==n):\n",
    "    print('number is perfect')\n",
    "else:\n",
    "        print('number is not perfect')"
   ]
  },
  {
   "cell_type": "code",
   "execution_count": 1,
   "id": "1ffdc2a1-7a8c-47f8-8973-72a5b2c6660b",
   "metadata": {},
   "outputs": [
    {
     "name": "stdin",
     "output_type": "stream",
     "text": [
      "enter the number 7875\n"
     ]
    },
    {
     "name": "stdout",
     "output_type": "stream",
     "text": [
      "number of digits= 4\n"
     ]
    }
   ],
   "source": [
    "#number of digits\n",
    "n=int(input(\"enter the number\"))\n",
    "count=0\n",
    "while n!=0:\n",
    "    n=n//10\n",
    "    count+=1\n",
    "print('number of digits=',count)"
   ]
  },
  {
   "cell_type": "code",
   "execution_count": 3,
   "id": "4526bb43-125c-41ec-8a50-450171f3c604",
   "metadata": {},
   "outputs": [
    {
     "name": "stdin",
     "output_type": "stream",
     "text": [
      "enter the number 9\n"
     ]
    },
    {
     "name": "stdout",
     "output_type": "stream",
     "text": [
      "0\n",
      "1\n",
      "1\n",
      "2\n",
      "3\n",
      "5\n",
      "8\n",
      "13\n",
      "21\n"
     ]
    }
   ],
   "source": [
    "#fabonacci series\n",
    "n=int(input(\"enter the number\"))\n",
    "n1,n2=0,1\n",
    "for i in range(n):\n",
    "    print(n1)\n",
    "    nth=n1+n2\n",
    "    n1=n2\n",
    "    n2=nth"
   ]
  },
  {
   "cell_type": "code",
   "execution_count": 6,
   "id": "3469d573-69c2-40fa-885a-286251ef9c26",
   "metadata": {},
   "outputs": [
    {
     "name": "stdin",
     "output_type": "stream",
     "text": [
      "enter the number 780\n"
     ]
    },
    {
     "name": "stdout",
     "output_type": "stream",
     "text": [
      "not armstrong number\n"
     ]
    }
   ],
   "source": [
    "#armstrong number or not\n",
    "n=int(input(\"enter the number\"))\n",
    "order=len(str(n))\n",
    "sum=0\n",
    "temp=n\n",
    "while temp>0:\n",
    "    digit=temp%10\n",
    "    sum=sum+digit**order\n",
    "    temp//=10\n",
    "if n==sum:\n",
    "    print('armstrong number')\n",
    "else:\n",
    "    print('not armstrong number')   "
   ]
  },
  {
   "cell_type": "code",
   "execution_count": 8,
   "id": "5464e5aa-e11d-40cd-8a08-a3b76bb705ac",
   "metadata": {},
   "outputs": [
    {
     "name": "stdin",
     "output_type": "stream",
     "text": [
      "enter the number 147\n"
     ]
    },
    {
     "name": "stdout",
     "output_type": "stream",
     "text": [
      "not a strong number\n"
     ]
    }
   ],
   "source": [
    "#strong number or not\n",
    "n=int(input(\"enter the number\"))\n",
    "temp=n\n",
    "sum=0\n",
    "while(n):\n",
    "    i=1\n",
    "    f=1\n",
    "    r=n%10\n",
    "    while(i<=r):\n",
    "        f=f*i\n",
    "        i=i+1\n",
    "        sum=sum+f\n",
    "        n=n//10\n",
    "if sum==temp:\n",
    "    print('strong number')\n",
    "else:\n",
    "    print('not a strong number')"
   ]
  },
  {
   "cell_type": "code",
   "execution_count": 9,
   "id": "1b15661a-c5dc-4904-bf87-342f1b610cda",
   "metadata": {},
   "outputs": [
    {
     "name": "stdin",
     "output_type": "stream",
     "text": [
      "enter the menu 1\n",
      "enter length of edge 3\n"
     ]
    },
    {
     "name": "stdout",
     "output_type": "stream",
     "text": [
      "volume of cube 27\n"
     ]
    }
   ],
   "source": [
    "#menu driven volume calculation\n",
    "def vcube():\n",
    "    a=int(input('enter length of edge'))\n",
    "    vcb=a**3\n",
    "    print('volume of cube',vcb)\n",
    "    \n",
    "def rec_prism():\n",
    "    l=int(input('enter length of prism'))\n",
    "    w=int(input('enter width of prism'))\n",
    "    h=int(input('enter height of prism'))\n",
    "    vrp=l*w*h\n",
    "    print('volume of prism',vrp)\n",
    "\n",
    "def cone():\n",
    "    r=int(input('enter radius of cone'))\n",
    "    h=int(input('enter height of cone'))\n",
    "    vcn=3.14*r*r*h*0.33\n",
    "    print('volume of cone',vcn)   \n",
    "    \n",
    "def cylinder():\n",
    "    r=int(input('enter radius of cylinder'))\n",
    "    h=int(input('enter height of cylinder'))\n",
    "    vcn=3.14*r*r*h\n",
    "    print('volume of cylinder',vcn)\n",
    "    \n",
    "menu=int(input('enter the menu'))\n",
    "if menu==1:\n",
    "    vcube()\n",
    "elif menu==2:\n",
    "    rec_prism()\n",
    "elif menu==3:\n",
    "    cone()\n",
    "elif menu==4:\n",
    "    cylinder()\n",
    "else:\n",
    "    print(\"invalid menu\")"
   ]
  },
  {
   "cell_type": "code",
   "execution_count": 2,
   "id": "18a35e2b-bd3c-4f18-a2a8-0ae83647a077",
   "metadata": {},
   "outputs": [
    {
     "name": "stdout",
     "output_type": "stream",
     "text": [
      "1015\n",
      "1050\n",
      "1085\n",
      "1120\n",
      "1155\n",
      "1190\n",
      "1225\n",
      "1260\n",
      "1295\n",
      "1330\n",
      "1365\n",
      "1400\n",
      "1435\n",
      "1470\n",
      "1505\n",
      "1540\n",
      "1575\n",
      "1610\n",
      "1645\n",
      "1680\n",
      "1715\n",
      "1750\n",
      "1785\n",
      "1820\n",
      "1855\n",
      "1890\n",
      "1925\n",
      "1960\n",
      "1995\n"
     ]
    }
   ],
   "source": [
    "#numbers from 1000 to 2000 divisible by 7 & factors of 5\n",
    "for i in range (1000,2000,1):\n",
    "    if i%5==0 and i%7==0:\n",
    "        print(i)"
   ]
  },
  {
   "cell_type": "code",
   "execution_count": null,
   "id": "520cf2ce-9b9a-47e1-94b0-6ecd6af0da13",
   "metadata": {},
   "outputs": [],
   "source": []
  }
 ],
 "metadata": {
  "kernelspec": {
   "display_name": "anaconda-2022.05-py39",
   "language": "python",
   "name": "conda-env-anaconda-2022.05-py39-py"
  },
  "language_info": {
   "codemirror_mode": {
    "name": "ipython",
    "version": 3
   },
   "file_extension": ".py",
   "mimetype": "text/x-python",
   "name": "python",
   "nbconvert_exporter": "python",
   "pygments_lexer": "ipython3",
   "version": "3.9.12"
  }
 },
 "nbformat": 4,
 "nbformat_minor": 5
}
