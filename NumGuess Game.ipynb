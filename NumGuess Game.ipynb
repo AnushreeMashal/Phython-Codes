{
 "cells": [
  {
   "cell_type": "code",
   "execution_count": 13,
   "id": "866ceafe-175f-4a44-a297-a869ada8d124",
   "metadata": {},
   "outputs": [
    {
     "name": "stdout",
     "output_type": "stream",
     "text": [
      "Select any number of your choice between 1 to 10\n"
     ]
    },
    {
     "name": "stdin",
     "output_type": "stream",
     "text": [
      "is the selected number present in a? = [1,9,7,5] yes\n",
      "is the selected number present in b?=[4,2,3,10] no\n",
      "is the selected number present in c?=[6,10,1,3] no\n",
      "is the selected number present in d?=[2,9,7,4] yes\n",
      "is the selected number present in e?=[5,8,9,10] yes\n",
      "is the selected number present in f?=[2,3,6,7] no\n",
      "is the selected number present in g?=[1,7,8,6] no\n",
      "is the selected number present in h?=[3,5,2,9] yes\n",
      "is the selected number present in i?=[7,4,5,1] no\n"
     ]
    },
    {
     "name": "stdout",
     "output_type": "stream",
     "text": [
      "the selected number is 9\n"
     ]
    }
   ],
   "source": [
    "num=print('Select any number of your choice between 1 to 10')\n",
    "y=''\n",
    "a=[1,9,7,5]\n",
    "b=[4,2,3,10]\n",
    "c=[6,10,1,3]\n",
    "d=[2,9,7,4]\n",
    "e=[5,8,9,10]\n",
    "f=[2,3,6,7]\n",
    "g=[1,7,8,6]\n",
    "h=[3,5,2,9]\n",
    "i=[7,4,5,1]\n",
    "q1=input('is the selected number present in a? = [1,9,7,5]')\n",
    "if q1=='yes':\n",
    "    y+='a'\n",
    "q1=input('is the selected number present in b?=[4,2,3,10]')\n",
    "if q1=='yes':\n",
    "    y+='b'\n",
    "q1=input('is the selected number present in c?=[6,10,1,3]')\n",
    "if q1=='yes':\n",
    "    y+='c'\n",
    "q1=input('is the selected number present in d?=[2,9,7,4]')\n",
    "if q1=='yes':\n",
    "    y+='d'\n",
    "q1=input('is the selected number present in e?=[5,8,9,10]')\n",
    "if q1=='yes':\n",
    "    y+='e'\n",
    "q1=input('is the selected number present in f?=[2,3,6,7]')\n",
    "if q1=='yes':\n",
    "    y+='f'\n",
    "q1=input('is the selected number present in g?=[1,7,8,6]')\n",
    "if q1=='yes':\n",
    "    y+='g'\n",
    "q1=input('is the selected number present in h?=[3,5,2,9]')\n",
    "if q1=='yes':\n",
    "    y+='h'\n",
    "q1=input('is the selected number present in i?=[7,4,5,1]')\n",
    "if q1=='yes':\n",
    "    y+='i'\n",
    "if y=='acgi':\n",
    "    print('the selected number is 1')\n",
    "elif y=='bdfh':\n",
    "    print('the selected number is 2')\n",
    "elif y=='bcfh':\n",
    "    print('the selected number is 3')\n",
    "elif y=='bd1':\n",
    "    print('the selected number is 4')\n",
    "elif y=='aehi':\n",
    "    print('the selected number is 5')\n",
    "elif y=='cfg':\n",
    "    print('the selected number is 6')\n",
    "elif y=='adfgi':\n",
    "    print('the selected number is 7')\n",
    "elif y=='eg':\n",
    "    print('the selected number is 8')\n",
    "elif y=='adeh':\n",
    "    print('the selected number is 9')\n",
    "elif y=='bce':\n",
    "    print('the selected number is 10')\n",
    "else:\n",
    "    print('Kindly select between 1 and 10')"
   ]
  },
  {
   "cell_type": "code",
   "execution_count": null,
   "id": "0b3dd65c-a392-4898-b96f-619d4e53576b",
   "metadata": {},
   "outputs": [],
   "source": []
  }
 ],
 "metadata": {
  "kernelspec": {
   "display_name": "anaconda-2022.05-py39",
   "language": "python",
   "name": "conda-env-anaconda-2022.05-py39-py"
  },
  "language_info": {
   "codemirror_mode": {
    "name": "ipython",
    "version": 3
   },
   "file_extension": ".py",
   "mimetype": "text/x-python",
   "name": "python",
   "nbconvert_exporter": "python",
   "pygments_lexer": "ipython3",
   "version": "3.9.12"
  }
 },
 "nbformat": 4,
 "nbformat_minor": 5
}
