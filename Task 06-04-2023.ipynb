{
 "cells": [
  {
   "cell_type": "code",
   "execution_count": 2,
   "id": "7c5fdb1f-c223-480d-9643-c50ef9ad8f65",
   "metadata": {},
   "outputs": [
    {
     "name": "stdin",
     "output_type": "stream",
     "text": [
      "enter the age 15\n"
     ]
    },
    {
     "name": "stdout",
     "output_type": "stream",
     "text": [
      "not eligible to vote\n"
     ]
    }
   ],
   "source": [
    "i=int(input(\"enter the age\"))\n",
    "if i<18:\n",
    "    print(\"not eligible to vote\")\n",
    "else:\n",
    "    print(\"eligible to vote\")"
   ]
  },
  {
   "cell_type": "code",
   "execution_count": 2,
   "id": "0599b5e7-9bb9-437b-87e2-f9417b1d36ef",
   "metadata": {},
   "outputs": [
    {
     "name": "stdin",
     "output_type": "stream",
     "text": [
      "enter the number 7\n"
     ]
    },
    {
     "name": "stdout",
     "output_type": "stream",
     "text": [
      "Saturday\n"
     ]
    }
   ],
   "source": [
    "i=int(input('enter the number'))\n",
    "if i==1:\n",
    "    print('Sunday')\n",
    "elif i==2:\n",
    "    print('Monday')\n",
    "elif i==3:\n",
    "    print('Tuesday')\n",
    "elif i==4:\n",
    "    print('Wednesday')\n",
    "elif i==5:\n",
    "    print('Thursday')\n",
    "elif i==6:\n",
    "    print('Friday')\n",
    "elif i==7:\n",
    "    print('Saturday')\n",
    "else:\n",
    "    print(\"Invalid number\")"
   ]
  },
  {
   "cell_type": "code",
   "execution_count": 6,
   "id": "3897f154-5a0b-4f1e-bb31-2e127dfe73c6",
   "metadata": {},
   "outputs": [
    {
     "name": "stdin",
     "output_type": "stream",
     "text": [
      "Enter the number 19\n"
     ]
    },
    {
     "name": "stdout",
     "output_type": "stream",
     "text": [
      "odd\n"
     ]
    }
   ],
   "source": [
    "n=int(input('Enter the number'))\n",
    "if n%2!=0:\n",
    "    print('odd')\n",
    "else:\n",
    "    print('even')"
   ]
  },
  {
   "cell_type": "code",
   "execution_count": 9,
   "id": "6db7d05b-c13b-4f0d-a70d-cd562f9f7eec",
   "metadata": {},
   "outputs": [
    {
     "name": "stdin",
     "output_type": "stream",
     "text": [
      "Enter the number -1\n"
     ]
    },
    {
     "name": "stdout",
     "output_type": "stream",
     "text": [
      "Negative number\n"
     ]
    }
   ],
   "source": [
    "n=int(input('Enter the number'))\n",
    "if n==0:\n",
    "    print('number is zero')\n",
    "elif n>0:\n",
    "    print('Positive number')\n",
    "else:\n",
    "    print(\"Negative number\")"
   ]
  },
  {
   "cell_type": "code",
   "execution_count": 13,
   "id": "bb4648de-ce18-4602-85f9-46e1ff0ba34e",
   "metadata": {},
   "outputs": [
    {
     "name": "stdin",
     "output_type": "stream",
     "text": [
      "enter the alphabet s\n"
     ]
    },
    {
     "name": "stdout",
     "output_type": "stream",
     "text": [
      "alphabet is consonant\n"
     ]
    }
   ],
   "source": [
    "n=str(input(\"enter the alphabet\"))\n",
    "if n=='a' or n==\"A\":\n",
    "    print(\"alphabet is vowel\")\n",
    "elif n=='e'or n=='E':\n",
    "    print(\"alphabet is vowel\")\n",
    "elif n=='i'or n=='I':\n",
    "    print(\"alphabet is vowel\")\n",
    "elif n=='o'or n=='O':\n",
    "    print(\"alphabet is vowel\")\n",
    "elif n=='u'or n=='U':\n",
    "    print(\"alphabet is vowel\")\n",
    "else:\n",
    "    print(\"alphabet is consonant\")"
   ]
  },
  {
   "cell_type": "code",
   "execution_count": 14,
   "id": "a7cfadb4-8baa-420b-9900-d487930ca633",
   "metadata": {},
   "outputs": [
    {
     "name": "stdin",
     "output_type": "stream",
     "text": [
      "enter the year 2015\n"
     ]
    },
    {
     "name": "stdout",
     "output_type": "stream",
     "text": [
      "Entered year is not a leap year\n"
     ]
    }
   ],
   "source": [
    "year=int(input(\"enter the year\"))\n",
    "if year%400==0 or year%100!=0 and year%4==0:\n",
    "    print(\"Entered year is leap year\")\n",
    "else:\n",
    "    print(\"Entered year is not a leap year\")"
   ]
  },
  {
   "cell_type": "code",
   "execution_count": 15,
   "id": "3be0ec58-6dc9-47bd-b644-ec75b3cd6fa3",
   "metadata": {},
   "outputs": [
    {
     "name": "stdin",
     "output_type": "stream",
     "text": [
      "Enter the cost price 85\n",
      "Enter the selling price 89.4\n"
     ]
    },
    {
     "name": "stdout",
     "output_type": "stream",
     "text": [
      "Its profit\n"
     ]
    }
   ],
   "source": [
    "cp=float(input(\"Enter the cost price\"))\n",
    "sp=float(input(\"Enter the selling price\"))\n",
    "if sp>cp:\n",
    "    print(\"Its profit\")\n",
    "else:\n",
    "    print(\"its loss\")"
   ]
  },
  {
   "cell_type": "code",
   "execution_count": 17,
   "id": "1c170ea0-bb32-470a-8dcd-fce6909d0802",
   "metadata": {},
   "outputs": [
    {
     "name": "stdin",
     "output_type": "stream",
     "text": [
      "Enter first side of a triangle 90\n",
      "Enter second side of a triangle 70\n",
      "Enter third side of a triangle 75\n"
     ]
    },
    {
     "name": "stdout",
     "output_type": "stream",
     "text": [
      "Scalene triangle\n"
     ]
    }
   ],
   "source": [
    "s1=float(input(\"Enter first side of a triangle\"))\n",
    "s2=float(input(\"Enter second side of a triangle\"))\n",
    "s3=float(input(\"Enter third side of a triangle\"))\n",
    "if s1==s2 and s2==s3:\n",
    "    print(\"its equilateral triangle\")\n",
    "elif s1==s2 or s2==s3 or s1==s3:\n",
    "    print(\"Isosceles triangle\")\n",
    "else:\n",
    "    print(\"Scalene triangle\")"
   ]
  },
  {
   "cell_type": "code",
   "execution_count": 1,
   "id": "ccd60c86-bdb3-46de-992c-98fe2ca5a40f",
   "metadata": {},
   "outputs": [
    {
     "name": "stdin",
     "output_type": "stream",
     "text": [
      "Enter the first number 25\n",
      "Enter the second number 55\n"
     ]
    },
    {
     "name": "stdout",
     "output_type": "stream",
     "text": [
      "after swapping a & b are: 55 25\n"
     ]
    }
   ],
   "source": [
    "a=int(input('Enter the first number'))\n",
    "b=int(input('Enter the second number'))\n",
    "c=a\n",
    "a=b\n",
    "b=c\n",
    "print(\"after swapping a & b are:\",a,b)"
   ]
  },
  {
   "cell_type": "code",
   "execution_count": 2,
   "id": "e7948300-1780-4f25-a2f3-0b1aa1f54684",
   "metadata": {},
   "outputs": [
    {
     "name": "stdin",
     "output_type": "stream",
     "text": [
      "Enter the first number 75\n",
      "Enter the second number 70\n"
     ]
    },
    {
     "name": "stdout",
     "output_type": "stream",
     "text": [
      "after swapping a & b are: 70 75\n"
     ]
    }
   ],
   "source": [
    "a=int(input('Enter the first number'))\n",
    "b=int(input('Enter the second number'))\n",
    "a=a+b\n",
    "b=a-b\n",
    "a=a-b\n",
    "print(\"after swapping a & b are:\",a,b)"
   ]
  },
  {
   "cell_type": "code",
   "execution_count": 35,
   "id": "8ad03d1b-7261-4c44-aa34-6a7778c51555",
   "metadata": {},
   "outputs": [
    {
     "name": "stdin",
     "output_type": "stream",
     "text": [
      "Enter the principal 50000\n",
      "Enter rate of interest 4.5\n",
      "Enter the period 12\n"
     ]
    },
    {
     "name": "stdout",
     "output_type": "stream",
     "text": [
      "Simple interest of given values= 2750000.0\n"
     ]
    }
   ],
   "source": [
    "p=int(input(\"Enter the principal\"))\n",
    "r=float(input(\"Enter rate of interest\"))\n",
    "t=int(input(\"Enter the period\"))\n",
    "si=p*(1+r*t)\n",
    "print(\"Simple interest of given values=\",si)"
   ]
  },
  {
   "cell_type": "code",
   "execution_count": 4,
   "id": "4b71b5d3-3fd9-4509-bb17-650dbd02796a",
   "metadata": {},
   "outputs": [
    {
     "name": "stdin",
     "output_type": "stream",
     "text": [
      "Enter the number 10\n"
     ]
    },
    {
     "name": "stdout",
     "output_type": "stream",
     "text": [
      "average value = 5.5\n"
     ]
    }
   ],
   "source": [
    "n=int(input('Enter the number'))\n",
    "i=1\n",
    "sum=0\n",
    "while i<=n:\n",
    "    sum=sum+i\n",
    "    i+=1\n",
    "avg=sum/n\n",
    "print(\"average value =\", avg)"
   ]
  },
  {
   "cell_type": "code",
   "execution_count": 5,
   "id": "48f37767-3763-49ce-937b-66a50667f166",
   "metadata": {},
   "outputs": [
    {
     "name": "stdin",
     "output_type": "stream",
     "text": [
      "Enter value of a 6\n",
      "Enter value of b 5\n",
      "Enter value of c 9\n"
     ]
    },
    {
     "name": "stdout",
     "output_type": "stream",
     "text": [
      "discriminant of a,b,c is -191.0\n"
     ]
    }
   ],
   "source": [
    "a=float(input(\"Enter value of a\"))\n",
    "b=float(input(\"Enter value of b\"))\n",
    "c=float(input(\"Enter value of c\"))\n",
    "d=b**2-4*a*c\n",
    "print(\"discriminant of a,b,c is\",d)"
   ]
  },
  {
   "cell_type": "code",
   "execution_count": 7,
   "id": "b7bc0275-0074-45b9-a5b0-f0b752951d06",
   "metadata": {},
   "outputs": [
    {
     "name": "stdin",
     "output_type": "stream",
     "text": [
      "Enter the first number 88\n",
      "Enter the second number 98\n"
     ]
    },
    {
     "name": "stdout",
     "output_type": "stream",
     "text": [
      "Greatest number is 98\n"
     ]
    }
   ],
   "source": [
    "a=int(input('Enter the first number'))\n",
    "b=int(input('Enter the second number'))\n",
    "if a>b:\n",
    "    print(\"Greatest number is\",a)\n",
    "else:\n",
    "    print(\"Greatest number is\",b)"
   ]
  },
  {
   "cell_type": "code",
   "execution_count": 9,
   "id": "bf18e998-47dd-4934-8608-12b72d4a092f",
   "metadata": {},
   "outputs": [
    {
     "name": "stdin",
     "output_type": "stream",
     "text": [
      "Enter the first number 55\n",
      "Enter the second number 85\n"
     ]
    },
    {
     "name": "stdout",
     "output_type": "stream",
     "text": [
      "Smallest number is 55\n"
     ]
    }
   ],
   "source": [
    "a=int(input('Enter the first number'))\n",
    "b=int(input('Enter the second number'))\n",
    "if a<b:\n",
    "    print(\"Smallest number is\",a)\n",
    "else:\n",
    "    print(\"Smallest number is\",b)"
   ]
  },
  {
   "cell_type": "code",
   "execution_count": 10,
   "id": "0cafab91-3726-41d1-b2da-77cb07045eb6",
   "metadata": {},
   "outputs": [
    {
     "name": "stdin",
     "output_type": "stream",
     "text": [
      "Enter the first number 55\n",
      "Enter the second number 75\n",
      "enter the third number 70\n"
     ]
    },
    {
     "name": "stdout",
     "output_type": "stream",
     "text": [
      "Greatest number is 75\n"
     ]
    }
   ],
   "source": [
    "a=int(input('Enter the first number'))\n",
    "b=int(input('Enter the second number'))\n",
    "c=int(input(\"enter the third number\"))\n",
    "if a>b and a>c:\n",
    "    print(\"Greatest number is\",a)\n",
    "elif b>a and b>c:\n",
    "    print(\"Greatest number is\",b)\n",
    "else:\n",
    "    print(\"Greatest number is\",c)"
   ]
  },
  {
   "cell_type": "code",
   "execution_count": 13,
   "id": "bcba1841-ec01-4b77-9e90-654b4d48bbe3",
   "metadata": {},
   "outputs": [
    {
     "name": "stdin",
     "output_type": "stream",
     "text": [
      "Enter the first number 99\n",
      "Enter the second number 119\n",
      "enter the third number 89\n"
     ]
    },
    {
     "name": "stdout",
     "output_type": "stream",
     "text": [
      "smallest number is 89\n"
     ]
    }
   ],
   "source": [
    "a=int(input('Enter the first number'))\n",
    "b=int(input('Enter the second number'))\n",
    "c=int(input(\"enter the third number\"))\n",
    "if a<b and a<c:\n",
    "    print(\"Smallest number is\",a)\n",
    "elif b<a and b<c:\n",
    "    print(\"Smallest number is\",b)\n",
    "else:\n",
    "    print(\"smallest number is\",c)"
   ]
  },
  {
   "cell_type": "code",
   "execution_count": 14,
   "id": "bae5b0b0-4c27-4b60-939a-46b7c29d138c",
   "metadata": {},
   "outputs": [
    {
     "name": "stdin",
     "output_type": "stream",
     "text": [
      "Enter the first coefficient 25\n",
      "Enter the second coefficient 55\n",
      "enter the third coefficient 30\n"
     ]
    },
    {
     "name": "stdout",
     "output_type": "stream",
     "text": [
      "root1 -625.0\n",
      "root2 -750.0\n"
     ]
    }
   ],
   "source": [
    "a=int(input('Enter the first coefficient'))\n",
    "b=int(input('Enter the second coefficient'))\n",
    "c=int(input(\"enter the third coefficient\"))\n",
    "d=b**2-4*a*c\n",
    "d1=d**0.5\n",
    "if d1==0:\n",
    "    print(\"Imaginary roots\")\n",
    "else:\n",
    "    r1=(-b+d1)/2*a\n",
    "    r2=(-b-d1)/2*a\n",
    "    print(\"root1\",r1)\n",
    "    print(\"root2\",r2)"
   ]
  },
  {
   "cell_type": "code",
   "execution_count": 15,
   "id": "4c02f3b2-e0c7-4edb-8f47-a166ad349f02",
   "metadata": {},
   "outputs": [
    {
     "name": "stdin",
     "output_type": "stream",
     "text": [
      "enter the number 6\n"
     ]
    },
    {
     "name": "stdout",
     "output_type": "stream",
     "text": [
      "June\n"
     ]
    }
   ],
   "source": [
    "i=int(input('enter the number'))\n",
    "if i==1:\n",
    "    print('January')\n",
    "elif i==2:\n",
    "    print('February')\n",
    "elif i==3:\n",
    "    print('March')\n",
    "elif i==4:\n",
    "    print('April')\n",
    "elif i==5:\n",
    "    print('May')\n",
    "elif i==6:\n",
    "    print('June')\n",
    "elif i==7:\n",
    "    print('July')\n",
    "elif i==8:\n",
    "    print('August')\n",
    "elif i==9:\n",
    "    print('September')\n",
    "elif i==10:\n",
    "    print('October')\n",
    "elif i==11:\n",
    "    print('November')\n",
    "elif i==12:\n",
    "    print('December')\n",
    "else:\n",
    "    print(\"Invalid number\")"
   ]
  },
  {
   "cell_type": "code",
   "execution_count": 17,
   "id": "cf84ff12-1016-439f-b67d-c2e178a18780",
   "metadata": {},
   "outputs": [
    {
     "name": "stdin",
     "output_type": "stream",
     "text": [
      "Enter the first value 35\n",
      "Enter the second value 75\n",
      "enter the numbber 3\n"
     ]
    },
    {
     "name": "stdout",
     "output_type": "stream",
     "text": [
      "2625\n"
     ]
    }
   ],
   "source": [
    "a=int(input('Enter the first value'))\n",
    "b=int(input('Enter the second value'))\n",
    "n=int(input(\"enter the numbber\"))\n",
    "if n==1:\n",
    "    print(a+b)\n",
    "elif n==2:\n",
    "    print(a-b)\n",
    "elif n==3:\n",
    "    print(a*b)\n",
    "elif n==4:\n",
    "    print(a/b)\n",
    "else:\n",
    "    print(\"invalid input\")"
   ]
  },
  {
   "cell_type": "code",
   "execution_count": 18,
   "id": "8758bb1e-6cc1-45a4-ac6d-85625378283e",
   "metadata": {},
   "outputs": [
    {
     "name": "stdin",
     "output_type": "stream",
     "text": [
      "Enter the first value 20\n",
      "Enter the second value 10\n"
     ]
    },
    {
     "name": "stdout",
     "output_type": "stream",
     "text": [
      "addition= 30\n",
      "subtraction 10\n",
      "multiplication 200\n",
      "division 2.0\n",
      "modulus 0\n",
      "exponent 30\n"
     ]
    }
   ],
   "source": [
    "a=int(input('Enter the first value'))\n",
    "b=int(input('Enter the second value'))\n",
    "print('addition=',a+b)\n",
    "print('subtraction',a-b)\n",
    "print('multiplication',a*b)\n",
    "print('division',a/b)\n",
    "print('modulus',a%b)\n",
    "print('exponent',a^b)"
   ]
  },
  {
   "cell_type": "code",
   "execution_count": 20,
   "id": "5d43c2f1-a08f-433a-9002-6652cc601f47",
   "metadata": {},
   "outputs": [
    {
     "name": "stdin",
     "output_type": "stream",
     "text": [
      "Myself Anushree, staying in Durga\n"
     ]
    }
   ],
   "source": [
    "introduction=str(input(\"Myself\"))"
   ]
  },
  {
   "cell_type": "code",
   "execution_count": 25,
   "id": "024fe92d-36ac-4f27-bcbb-e3e089fd1da3",
   "metadata": {},
   "outputs": [
    {
     "name": "stdin",
     "output_type": "stream",
     "text": [
      "Enter marks of a student 78\n"
     ]
    },
    {
     "name": "stdout",
     "output_type": "stream",
     "text": [
      "B grade\n"
     ]
    }
   ],
   "source": [
    "Marks=float(input(\"Enter marks of a student\"))\n",
    "if Marks>=80 and Marks<=100:\n",
    "    print(\"A grade\")\n",
    "elif Marks>=60 and Marks<80:\n",
    "    print(\"B grade\")\n",
    "elif Marks>=50 and Marks<60:\n",
    "    print(\"C grade\")\n",
    "elif Marks>=45 and Marks<50:\n",
    "    print(\"D grade\")\n",
    "elif Marks>=25 and Marks<45:\n",
    "    print(\"E grade\")\n",
    "elif Marks<25:\n",
    "    print(\"Fail\")\n",
    "else:\n",
    "    print(\"invalid number\")"
   ]
  },
  {
   "cell_type": "code",
   "execution_count": 26,
   "id": "a6af0c3e-644a-4abe-a587-08fdcb587ca0",
   "metadata": {},
   "outputs": [
    {
     "name": "stdin",
     "output_type": "stream",
     "text": [
      "Enter the number 100\n",
      "Enter the exponent 2\n"
     ]
    },
    {
     "name": "stdout",
     "output_type": "stream",
     "text": [
      "power of number = 10000\n"
     ]
    }
   ],
   "source": [
    "a=int(input('Enter the number'))\n",
    "b=int(input('Enter the exponent'))\n",
    "print(\"power of number =\",a**b)"
   ]
  },
  {
   "cell_type": "code",
   "execution_count": 27,
   "id": "1e0fc9bb-80f2-42ac-adba-d635ea25a7f0",
   "metadata": {},
   "outputs": [
    {
     "name": "stdin",
     "output_type": "stream",
     "text": [
      "Enter the first person age 45\n",
      "Enter the second person age 65\n",
      "enter the third person age 60\n"
     ]
    },
    {
     "name": "stdout",
     "output_type": "stream",
     "text": [
      "Smallest person age is 45\n",
      "Greatest person age is 65\n"
     ]
    }
   ],
   "source": [
    "a=int(input('Enter the first person age'))\n",
    "b=int(input('Enter the second person age'))\n",
    "c=int(input(\"enter the third person age\"))\n",
    "if a<b and a<c:\n",
    "    print(\"Smallest person age is\",a)\n",
    "elif b<a and b<c:\n",
    "    print(\"Smallest person age is\",b)\n",
    "else:\n",
    "    print(\"smallest person age is\",c)\n",
    "if a>b and a>c:\n",
    "    print(\"Greatest person age is\",a)\n",
    "elif b>a and b>c:\n",
    "    print(\"Greatest person age is\",b)\n",
    "else:\n",
    "    print(\"Greatest person age is\",c)"
   ]
  },
  {
   "cell_type": "code",
   "execution_count": 28,
   "id": "f5084e7d-b8d4-46ab-8ee1-c572eb6540fc",
   "metadata": {},
   "outputs": [
    {
     "name": "stdin",
     "output_type": "stream",
     "text": [
      "Enter the breadth 45\n",
      "Enter the length 32\n"
     ]
    },
    {
     "name": "stdout",
     "output_type": "stream",
     "text": [
      "its rectangular\n"
     ]
    }
   ],
   "source": [
    "b=float(input('Enter the breadth'))\n",
    "l=float(input('Enter the length'))\n",
    "if b==l:\n",
    "    print(\"its square\")\n",
    "else:\n",
    "    print(\"its rectangular\")"
   ]
  },
  {
   "cell_type": "code",
   "execution_count": 30,
   "id": "801c647b-4de2-4029-9a81-74ddb80ce55a",
   "metadata": {},
   "outputs": [
    {
     "name": "stdin",
     "output_type": "stream",
     "text": [
      "Enter the breadth 45\n",
      "Enter the length 40\n"
     ]
    },
    {
     "name": "stdout",
     "output_type": "stream",
     "text": [
      "Area of rectangle= 1800.0\n"
     ]
    }
   ],
   "source": [
    "b=float(input('Enter the breadth'))\n",
    "l=float(input('Enter the length'))\n",
    "print(\"Area of rectangle=\",l*b)"
   ]
  },
  {
   "cell_type": "code",
   "execution_count": 36,
   "id": "70383365-d67d-4fac-ba1c-d3ba83e132bd",
   "metadata": {},
   "outputs": [
    {
     "name": "stdin",
     "output_type": "stream",
     "text": [
      "enter breadth  5\n",
      "enter height 3\n"
     ]
    },
    {
     "name": "stdout",
     "output_type": "stream",
     "text": [
      "area of triangle is 7.5\n"
     ]
    }
   ],
   "source": [
    "b=float(input('enter breadth '))\n",
    "h=float(input('enter height'))\n",
    "area=(b*h)/2\n",
    "print('area of triangle is', area)"
   ]
  },
  {
   "cell_type": "code",
   "execution_count": 37,
   "id": "f6c0e4c1-38bf-4395-a3ca-2630e429ecf7",
   "metadata": {},
   "outputs": [
    {
     "name": "stdin",
     "output_type": "stream",
     "text": [
      "enter a value  6\n"
     ]
    },
    {
     "name": "stdout",
     "output_type": "stream",
     "text": [
      "area of square is 36\n"
     ]
    }
   ],
   "source": [
    "a=int(input('enter a value '))\n",
    "area=a*a\n",
    "print('area of square is', area)"
   ]
  },
  {
   "cell_type": "code",
   "execution_count": 38,
   "id": "1d8c80b4-de0f-4ce1-8e6a-b5eea0b674fb",
   "metadata": {},
   "outputs": [
    {
     "name": "stdin",
     "output_type": "stream",
     "text": [
      "radius of circle is 15\n"
     ]
    },
    {
     "name": "stdout",
     "output_type": "stream",
     "text": [
      "area of circle is 706.5\n"
     ]
    }
   ],
   "source": [
    "r=int(input('radius of circle is'))\n",
    "c=3.14*r*r\n",
    "print('area of circle is', c)"
   ]
  },
  {
   "cell_type": "code",
   "execution_count": 44,
   "id": "2d09f850-3c7e-499c-8d56-d74cae60b382",
   "metadata": {},
   "outputs": [
    {
     "name": "stdin",
     "output_type": "stream",
     "text": [
      "enter temperature 25.6\n"
     ]
    },
    {
     "name": "stdout",
     "output_type": "stream",
     "text": [
      "tempature in farhenite 78.08000000000001\n"
     ]
    }
   ],
   "source": [
    "cel=float(input(\"enter temperature\"))\n",
    "far=cel*1.8+32\n",
    "print(\"tempature in farhenite\",far)"
   ]
  },
  {
   "cell_type": "code",
   "execution_count": 45,
   "id": "7f941c17-eba3-46fd-b68d-9c904a5f9da5",
   "metadata": {},
   "outputs": [
    {
     "name": "stdin",
     "output_type": "stream",
     "text": [
      "enter temperature 78.08\n"
     ]
    },
    {
     "name": "stdout",
     "output_type": "stream",
     "text": [
      "tempature in celsius 25.599999999999998\n"
     ]
    }
   ],
   "source": [
    "far=float(input(\"enter temperature\"))\n",
    "cel=(far-32)/1.8\n",
    "print(\"tempature in celsius\",cel)"
   ]
  },
  {
   "cell_type": "code",
   "execution_count": null,
   "id": "9139a2c8-79fd-4147-ac3d-d7837ecd1f36",
   "metadata": {},
   "outputs": [],
   "source": []
  }
 ],
 "metadata": {
  "kernelspec": {
   "display_name": "anaconda-2022.05-py39",
   "language": "python",
   "name": "conda-env-anaconda-2022.05-py39-py"
  },
  "language_info": {
   "codemirror_mode": {
    "name": "ipython",
    "version": 3
   },
   "file_extension": ".py",
   "mimetype": "text/x-python",
   "name": "python",
   "nbconvert_exporter": "python",
   "pygments_lexer": "ipython3",
   "version": "3.9.12"
  }
 },
 "nbformat": 4,
 "nbformat_minor": 5
}
